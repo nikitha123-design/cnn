{
  "nbformat": 4,
  "nbformat_minor": 0,
  "metadata": {
    "colab": {
      "provenance": []
    },
    "kernelspec": {
      "name": "python3",
      "display_name": "Python 3"
    },
    "language_info": {
      "name": "python"
    }
  },
  "cells": [
    {
      "cell_type": "code",
      "execution_count": null,
      "metadata": {
        "id": "xxbl67-THKE6"
      },
      "outputs": [],
      "source": [
        "!pip install chatterbot"
      ]
    },
    {
      "cell_type": "code",
      "source": [
        "pip install --upgrade setuptools pip\n"
      ],
      "metadata": {
        "colab": {
          "base_uri": "https://localhost:8080/"
        },
        "id": "6MNDXXxmHSmC",
        "outputId": "428ff380-8a88-45bb-8888-3474d72d7a99"
      },
      "execution_count": null,
      "outputs": [
        {
          "output_type": "stream",
          "name": "stdout",
          "text": [
            "Requirement already satisfied: setuptools in /usr/local/lib/python3.10/dist-packages (68.2.2)\n",
            "Requirement already satisfied: pip in /usr/local/lib/python3.10/dist-packages (23.2.1)\n",
            "\u001b[33mWARNING: Running pip as the 'root' user can result in broken permissions and conflicting behaviour with the system package manager. It is recommended to use a virtual environment instead: https://pip.pypa.io/warnings/venv\u001b[0m\u001b[33m\n",
            "\u001b[0m"
          ]
        }
      ]
    },
    {
      "cell_type": "code",
      "source": [
        "import nltk"
      ],
      "metadata": {
        "id": "O7j5yPc2Jb_s"
      },
      "execution_count": null,
      "outputs": []
    },
    {
      "cell_type": "code",
      "source": [
        "!pip install chatterbot_corpus"
      ],
      "metadata": {
        "id": "sMrBNg7EKbYb"
      },
      "execution_count": null,
      "outputs": []
    },
    {
      "cell_type": "code",
      "source": [
        "import chatterbot"
      ],
      "metadata": {
        "id": "ht3j5-5nKkLZ"
      },
      "execution_count": null,
      "outputs": []
    },
    {
      "cell_type": "code",
      "source": [
        "nltk.download('punkt')"
      ],
      "metadata": {
        "colab": {
          "base_uri": "https://localhost:8080/"
        },
        "id": "GnjwsGzXKmVD",
        "outputId": "f7edde99-e02e-4ff3-c4c6-de5f27165a0c"
      },
      "execution_count": null,
      "outputs": [
        {
          "output_type": "stream",
          "name": "stderr",
          "text": [
            "[nltk_data] Downloading package punkt to /root/nltk_data...\n",
            "[nltk_data]   Unzipping tokenizers/punkt.zip.\n"
          ]
        },
        {
          "output_type": "execute_result",
          "data": {
            "text/plain": [
              "True"
            ]
          },
          "metadata": {},
          "execution_count": 23
        }
      ]
    },
    {
      "cell_type": "code",
      "source": [
        "from nltk.tokenize import sent_tokenize, word_tokenize"
      ],
      "metadata": {
        "id": "BUtp07diKo7u"
      },
      "execution_count": null,
      "outputs": []
    },
    {
      "cell_type": "code",
      "source": [
        "text=\"Hello everyone. Welcome to GeeksforGeeks. You are studying NLP article\""
      ],
      "metadata": {
        "id": "C5SSzU-UKtth"
      },
      "execution_count": null,
      "outputs": []
    },
    {
      "cell_type": "code",
      "source": [
        "print(sent_tokenize(text))"
      ],
      "metadata": {
        "colab": {
          "base_uri": "https://localhost:8080/"
        },
        "id": "Vn0jo1tqKvyG",
        "outputId": "d22b9f8e-1a97-414f-e27a-b33cb21afdec"
      },
      "execution_count": null,
      "outputs": [
        {
          "output_type": "stream",
          "name": "stdout",
          "text": [
            "['Hello everyone.', 'Welcome to GeeksforGeeks.', 'You are studying NLP article']\n"
          ]
        }
      ]
    },
    {
      "cell_type": "code",
      "source": [
        "print(word_tokenize(text))"
      ],
      "metadata": {
        "colab": {
          "base_uri": "https://localhost:8080/"
        },
        "id": "6VFF1dr9Kx8j",
        "outputId": "44d983be-d132-412f-9def-90fc52634b73"
      },
      "execution_count": null,
      "outputs": [
        {
          "output_type": "stream",
          "name": "stdout",
          "text": [
            "['Hello', 'everyone', '.', 'Welcome', 'to', 'GeeksforGeeks', '.', 'You', 'are', 'studying', 'NLP', 'article']\n"
          ]
        }
      ]
    },
    {
      "cell_type": "code",
      "source": [
        "from nltk.stem import WordNetLemmatizer\n",
        "lemmatizer=WordNetLemmatizer()"
      ],
      "metadata": {
        "id": "XsChaBFxK4jD"
      },
      "execution_count": null,
      "outputs": []
    },
    {
      "cell_type": "code",
      "source": [
        "nltk.download('wordnet')"
      ],
      "metadata": {
        "colab": {
          "base_uri": "https://localhost:8080/"
        },
        "id": "WBg4vDDrLAIb",
        "outputId": "939f26fa-6ec7-4459-ecc6-7c175b6d6559"
      },
      "execution_count": null,
      "outputs": [
        {
          "output_type": "stream",
          "name": "stderr",
          "text": [
            "[nltk_data] Downloading package wordnet to /root/nltk_data...\n"
          ]
        },
        {
          "output_type": "execute_result",
          "data": {
            "text/plain": [
              "True"
            ]
          },
          "metadata": {},
          "execution_count": 27
        }
      ]
    },
    {
      "cell_type": "code",
      "source": [
        "print(\"runs :\",lemmatizer.lemmatize(\"runs\"))\n",
        "print(\"better :\", lemmatizer.lemmatize(\"better\",pos='a'))"
      ],
      "metadata": {
        "colab": {
          "base_uri": "https://localhost:8080/"
        },
        "id": "wvZr3bQFLCCk",
        "outputId": "1a9925b6-0d76-4439-d863-8afca3fa9e4c"
      },
      "execution_count": null,
      "outputs": [
        {
          "output_type": "stream",
          "name": "stdout",
          "text": [
            "runs : run\n",
            "better : good\n"
          ]
        }
      ]
    },
    {
      "cell_type": "code",
      "source": [
        "from nltk.stem import PorterStemmer"
      ],
      "metadata": {
        "id": "AL4jizFSLDht"
      },
      "execution_count": null,
      "outputs": []
    },
    {
      "cell_type": "code",
      "source": [
        "ps=PorterStemmer()\n",
        "words=['program','programmer','programming','programs']\n",
        "for w in words:\n",
        "  print(w,':',ps.stem(w))"
      ],
      "metadata": {
        "colab": {
          "base_uri": "https://localhost:8080/"
        },
        "id": "Nq6gwSr2LHfK",
        "outputId": "964ecc90-cbbb-49a2-bcf6-5413a757caa8"
      },
      "execution_count": null,
      "outputs": [
        {
          "output_type": "stream",
          "name": "stdout",
          "text": [
            "program : program\n",
            "programmer : programm\n",
            "programming : program\n",
            "programs : program\n"
          ]
        }
      ]
    },
    {
      "cell_type": "code",
      "source": [
        "!pip install --upgrade chatterbot"
      ],
      "metadata": {
        "id": "lb_GgbhOLIz6"
      },
      "execution_count": null,
      "outputs": []
    },
    {
      "cell_type": "code",
      "source": [
        "nltk.download()"
      ],
      "metadata": {
        "id": "15Kazl0ZLNHh"
      },
      "execution_count": null,
      "outputs": []
    },
    {
      "cell_type": "code",
      "source": [
        "from chatterbot import ChatBot"
      ],
      "metadata": {
        "id": "HOLsgHAyLPjv"
      },
      "execution_count": null,
      "outputs": []
    },
    {
      "cell_type": "code",
      "source": [
        "from chatterbot.trainers import ListTrainer"
      ],
      "metadata": {
        "id": "Nb-Fb-hULTdo"
      },
      "execution_count": null,
      "outputs": []
    },
    {
      "cell_type": "code",
      "source": [
        "your_bot = ChatBot(\n",
        "    name='Niki_Bot',\n",
        "    read_only=True,\n",
        "    logic_adapters=[\n",
        "        'chatterbot.logic.MathematicalEvaluation',\n",
        "        'chatterbot.logic.BestMatch'\n",
        "    ]\n",
        ")\n",
        "\n",
        "'''logic adapter tells the list of trainers used for making the chatbot,\n",
        "for example to solve mathematical problem and Best match to choose the best reply for the question.'''"
      ],
      "metadata": {
        "id": "BV5-oFWfLXn_"
      },
      "execution_count": null,
      "outputs": []
    },
    {
      "cell_type": "code",
      "source": [],
      "metadata": {
        "id": "YrFk8pEZLd18"
      },
      "execution_count": null,
      "outputs": []
    },
    {
      "cell_type": "code",
      "source": [
        "greetings=['Hi','Hello','How are you?',\"Hope you're fine\",'How do you do?','How was your day?', 'Hey, nice talking to you!']"
      ],
      "metadata": {
        "id": "XMJEShC_Ld5F"
      },
      "execution_count": null,
      "outputs": []
    },
    {
      "cell_type": "code",
      "source": [
        "formula1=['pythagorean theorem','a squared plus b squared equals c squared']"
      ],
      "metadata": {
        "id": "Ep_FJV6gL32h"
      },
      "execution_count": null,
      "outputs": []
    },
    {
      "cell_type": "code",
      "source": [
        "formula2=['law of cosines','c^2=a^2+b^2+2ab']\n",
        "newton1=[\"Newton's 1st law of motion\",\"Newton's first law of motion states that an object remains at rest or in uniform motion in a straight line unless acted upon by an external force.\" ]\n",
        "newton2=[\"Newton's 2nd law of motion\",\"Newton's second law of motion states that the acceleration of an object is directly proportional to the force applied and inversely proportional to the object's mass.\"]\n",
        "newton3=[\"Newton's 3rd law of motion\",\"Newton's third law of motion states that for every action, there is an equal and opposite reaction.\"]"
      ],
      "metadata": {
        "id": "audtSNoWMApZ"
      },
      "execution_count": null,
      "outputs": []
    },
    {
      "cell_type": "code",
      "source": [
        "train_yourbot=ListTrainer(your_bot)"
      ],
      "metadata": {
        "id": "355RuXcONWhr"
      },
      "execution_count": null,
      "outputs": []
    },
    {
      "cell_type": "code",
      "source": [
        "for item in greetings,formula1,formula2,newton1,newton2,newton3:\n",
        "  train_yourbot.train(item)"
      ],
      "metadata": {
        "id": "qVZblfEENWkA"
      },
      "execution_count": null,
      "outputs": []
    },
    {
      "cell_type": "code",
      "source": [
        "print(your_bot.get_response(\"Hi\"))"
      ],
      "metadata": {
        "id": "UIyqnOhtNqf4"
      },
      "execution_count": null,
      "outputs": []
    },
    {
      "cell_type": "code",
      "source": [
        "print(your_bot.get_response(\"Teach me pythagorous theorem\"))"
      ],
      "metadata": {
        "id": "wfPdrbk_N9Wd"
      },
      "execution_count": null,
      "outputs": []
    },
    {
      "cell_type": "code",
      "source": [
        "print(your_bot.get_response(\"what is Ohm's law?\"))"
      ],
      "metadata": {
        "id": "g1JqHDdnOEHD"
      },
      "execution_count": null,
      "outputs": []
    },
    {
      "cell_type": "code",
      "source": [
        "print(your_bot.get_response(\"How was your day\"))"
      ],
      "metadata": {
        "id": "ksL23i68OLUM"
      },
      "execution_count": null,
      "outputs": []
    }
  ]
}