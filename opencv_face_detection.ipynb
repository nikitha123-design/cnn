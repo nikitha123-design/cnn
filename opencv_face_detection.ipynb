{
  "nbformat": 4,
  "nbformat_minor": 0,
  "metadata": {
    "colab": {
      "provenance": []
    },
    "kernelspec": {
      "name": "python3",
      "display_name": "Python 3"
    },
    "language_info": {
      "name": "python"
    }
  },
  "cells": [
    {
      "cell_type": "code",
      "execution_count": null,
      "metadata": {
        "id": "85NGqJOUkbjF"
      },
      "outputs": [],
      "source": [
        "import cv2"
      ]
    },
    {
      "cell_type": "code",
      "source": [
        "import matplotlib.pyplot as plt\n",
        "from google.colab.patches import cv2_imshow"
      ],
      "metadata": {
        "id": "Tw7Fcxlmkg39"
      },
      "execution_count": null,
      "outputs": []
    },
    {
      "cell_type": "code",
      "source": [
        "img=cv2.imread('sample image path')\n",
        "print(cv2_imshow(img))"
      ],
      "metadata": {
        "id": "AdMnVqAZkpE6"
      },
      "execution_count": null,
      "outputs": []
    },
    {
      "cell_type": "code",
      "source": [
        "img.shape"
      ],
      "metadata": {
        "colab": {
          "base_uri": "https://localhost:8080/"
        },
        "id": "m_jxgk4PnleJ",
        "outputId": "adae9630-d9a5-4835-80c8-6eac7771177a"
      },
      "execution_count": null,
      "outputs": [
        {
          "output_type": "execute_result",
          "data": {
            "text/plain": [
              "(3024, 4032, 3)"
            ]
          },
          "metadata": {},
          "execution_count": 26
        }
      ]
    },
    {
      "cell_type": "code",
      "source": [
        "img1=cv2.imread('sample image path',0)\n",
        "print(cv2_imshow(img1))"
      ],
      "metadata": {
        "id": "KktcoxIsoDel"
      },
      "execution_count": null,
      "outputs": []
    },
    {
      "cell_type": "code",
      "source": [
        "img #RGB array values"
      ],
      "metadata": {
        "id": "ZjaLcqA2oNzv"
      },
      "execution_count": null,
      "outputs": []
    },
    {
      "cell_type": "code",
      "source": [
        "img1 #just black and white values"
      ],
      "metadata": {
        "id": "_U-2VSCBpcap"
      },
      "execution_count": null,
      "outputs": []
    },
    {
      "cell_type": "code",
      "source": [
        "img1.shape"
      ],
      "metadata": {
        "colab": {
          "base_uri": "https://localhost:8080/"
        },
        "id": "ix3y89KJpdtM",
        "outputId": "40655b43-1553-463a-f78a-0560110b9396"
      },
      "execution_count": null,
      "outputs": [
        {
          "output_type": "execute_result",
          "data": {
            "text/plain": [
              "(3024, 4032)"
            ]
          },
          "metadata": {},
          "execution_count": 30
        }
      ]
    },
    {
      "cell_type": "code",
      "source": [
        "img2=cv2.cvtColor(img,cv2.COLOR_BGR2HSV)\n",
        "print(cv2_imshow(img2))"
      ],
      "metadata": {
        "id": "lbaeR0owqGEo"
      },
      "execution_count": null,
      "outputs": []
    },
    {
      "cell_type": "code",
      "source": [
        "smaller_image=cv2.resize(img,(200,140))\n",
        "print(cv2_imshow(smaller_image))"
      ],
      "metadata": {
        "id": "1-StKbf0q-xO"
      },
      "execution_count": null,
      "outputs": []
    },
    {
      "cell_type": "code",
      "source": [
        "ret,thresh_binary=cv2.threshold(img1,240,150,cv2.THRESH_BINARY)\n",
        "ret,thresh_binary_inv=cv2.threshold(img1,240,150,cv2.THRESH_BINARY_INV)\n",
        "ret,thresh_trunc=cv2.threshold(img1,240,150,cv2.THRESH_TRUNC)\n",
        "ret,thresh_tozero=cv2.threshold(img1,240,150,cv2.THRESH_TOZERO)\n",
        "ret,thresh_tozero_inv=cv2.threshold(img1,240,150,cv2.THRESH_TOZERO_INV)"
      ],
      "metadata": {
        "id": "HhQTzzfgrwbz"
      },
      "execution_count": null,
      "outputs": []
    },
    {
      "cell_type": "code",
      "source": [
        "names=['Original image','Binary','Binary_inv','trunc','tozero','tozero_inv']\n",
        "images=img2, thresh_binary, thresh_binary_inv,thresh_trunc, thresh_tozero, thresh_tozero_inv\n",
        "for i in range(6):\n",
        "  plt.subplot(2,3,i+1), plt.imshow(images[i],'gray')\n",
        "  plt.title(names[i])"
      ],
      "metadata": {
        "id": "yKnbPbi9t71Z"
      },
      "execution_count": null,
      "outputs": []
    },
    {
      "cell_type": "code",
      "source": [
        "import numpy as np\n",
        "face_classifier = cv2.CascadeClassifier('/content/haarcascade_frontalface_default.xml')  #this is a cascade classifier for face detection"
      ],
      "metadata": {
        "id": "arlbNTqSvQBi"
      },
      "execution_count": null,
      "outputs": []
    },
    {
      "cell_type": "code",
      "source": [
        "face=face_classifier.detectMultiScale(img1,0.9,4)\n",
        "#to draw a rectangle around face\n",
        "for (x,y,w,h) in face:\n",
        "  cv2.rectangle(img, (x,y), (x+w,y+h), (255,0,0), 2)\n",
        "#displaying output\n",
        "cv2_imshow(img)\n",
        "cv2.waitKey()\n"
      ],
      "metadata": {
        "id": "vxYCecT4fjJW"
      },
      "execution_count": null,
      "outputs": []
    },
    {
      "cell_type": "code",
      "source": [],
      "metadata": {
        "id": "6cP-cbtewvIH"
      },
      "execution_count": null,
      "outputs": []
    }
  ]
}