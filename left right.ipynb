{
 "cells": [
  {
   "cell_type": "code",
   "execution_count": 1,
   "id": "30fdb039",
   "metadata": {},
   "outputs": [],
   "source": [
    "import cv2"
   ]
  },
  {
   "cell_type": "code",
   "execution_count": 2,
   "id": "dd3f1212",
   "metadata": {},
   "outputs": [],
   "source": [
    "import mediapipe as mp"
   ]
  },
  {
   "cell_type": "code",
   "execution_count": 3,
   "id": "922745f0",
   "metadata": {},
   "outputs": [],
   "source": [
    "from google.protobuf.json_format import MessageToDict"
   ]
  },
  {
   "cell_type": "code",
   "execution_count": 4,
   "id": "0e93f93f",
   "metadata": {},
   "outputs": [],
   "source": [
    "# building the model\n",
    "mpHands = mp.solutions.hands\n",
    "hands = mpHands.Hands(\n",
    "    static_image_mode=False,\n",
    "    min_detection_confidence=0.75,\n",
    "    min_tracking_confidence=0.75,\n",
    "    max_num_hands=2)"
   ]
  },
  {
   "cell_type": "code",
   "execution_count": 5,
   "id": "78596aba",
   "metadata": {},
   "outputs": [],
   "source": [
    "#opening webcam\n",
    "webcam = cv2.VideoCapture(0) #0 mentions the default webcam of the device\n",
    "\n",
    "while True:\n",
    "    success, img = webcam.read()\n",
    "\n",
    "    # flipping the image for model\n",
    "    original_img=img.copy()\n",
    "    \n",
    "    # copying the original image\n",
    "    img = cv2.flip(img, 1)\n",
    "    \n",
    "     # converting to RGB for model (model needs RGB img)\n",
    "    RGB_img = cv2.cvtColor(img, cv2.COLOR_BGR2RGB)\n",
    "\n",
    "    # passing the image to the model\n",
    "    results = hands.process(RGB_img)\n",
    "\n",
    "    # if there is any result (if any hand is detected)\n",
    "    if results.multi_hand_landmarks:\n",
    "\n",
    "        if len(results.multi_handedness) == 2:\n",
    "            # if two hands exist in the image\n",
    "            cv2.putText(original_img, 'Both Hands', (250, 56), cv2.FONT_ITALIC, 0.8, (125, 125, 255), 2)\n",
    "\n",
    "        else: \n",
    "            # if only one hand exists in the image\n",
    "            for i in results.multi_handedness:\n",
    "                label = MessageToDict(i)['classification'][0]['label']\n",
    "\n",
    "                if label == 'Left':\n",
    "                    cv2.putText(original_img, 'Left Hand', (20, 56), cv2.FONT_ITALIC, 0.8, (0, 255, 0), 2)\n",
    "\n",
    "                if label == 'Right':\n",
    "                    cv2.putText(original_img, 'Right Hand', (460, 56), cv2.FONT_ITALIC, 0.8, (0, 255, 0), 2)\n",
    "\n",
    "    cv2.imshow('image', original_img)\n",
    "    if cv2.waitKey(1) & 0xff == ord('q'):\n",
    "        break\n",
    "\n",
    "webcam.release()\n",
    "cv2.destroyAllWindows()"
   ]
  },
  {
   "cell_type": "code",
   "execution_count": null,
   "id": "fda23718",
   "metadata": {},
   "outputs": [],
   "source": []
  }
 ],
 "metadata": {
  "kernelspec": {
   "display_name": "Python 3 (ipykernel)",
   "language": "python",
   "name": "python3"
  },
  "language_info": {
   "codemirror_mode": {
    "name": "ipython",
    "version": 3
   },
   "file_extension": ".py",
   "mimetype": "text/x-python",
   "name": "python",
   "nbconvert_exporter": "python",
   "pygments_lexer": "ipython3",
   "version": "3.9.12"
  }
 },
 "nbformat": 4,
 "nbformat_minor": 5
}
